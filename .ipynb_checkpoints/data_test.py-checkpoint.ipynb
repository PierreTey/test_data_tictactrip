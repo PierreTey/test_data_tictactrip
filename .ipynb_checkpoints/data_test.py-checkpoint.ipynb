{
 "cells": [
  {
   "cell_type": "markdown",
   "metadata": {},
   "source": [
    "# Test \"Data Guy\" TicTacTrip Teyssier Pierre"
   ]
  },
  {
   "cell_type": "markdown",
   "metadata": {},
   "source": [
    "First, lets import the libraries we will need."
   ]
  },
  {
   "cell_type": "code",
   "execution_count": 1,
   "metadata": {},
   "outputs": [],
   "source": [
    "import pandas as pd\n",
    "import seaborn as sns\n",
    "from math import sin, cos, sqrt, atan2, radians"
   ]
  },
  {
   "cell_type": "markdown",
   "metadata": {},
   "source": [
    "We will use pandas DataFrame that are very conveniant to extract data from csv and to gather insights about them."
   ]
  },
  {
   "cell_type": "code",
   "execution_count": 2,
   "metadata": {},
   "outputs": [],
   "source": [
    "cities = pd.read_csv('data/cities.csv', sep=\",\", header=0)\n",
    "providers = pd.read_csv('data/providers.csv', sep=\",\", header=0)\n",
    "stations = pd.read_csv('data/stations.csv', sep=\",\", header=0)\n",
    "ticket =pd.read_csv('data/ticket_data.csv', sep=\",\", header=0)"
   ]
  },
  {
   "cell_type": "markdown",
   "metadata": {},
   "source": [
    "( It's always good to have a snippet to visualize our dataframes columns name when we will need to work with them )"
   ]
  },
  {
   "cell_type": "code",
   "execution_count": 3,
   "metadata": {},
   "outputs": [
    {
     "name": "stdout",
     "output_type": "stream",
     "text": [
      "Cities DataFrame: \n",
      " Index(['id', 'local_name', 'unique_name', 'latitude', 'longitude',\n",
      "       'population'],\n",
      "      dtype='object')\n",
      "\n",
      "\n",
      "Providers DataFrame: \n",
      " Index(['id', 'company_id', 'provider_id', 'name', 'fullname', 'has_wifi',\n",
      "       'has_plug', 'has_adjustable_seats', 'has_bicycle', 'transport_type'],\n",
      "      dtype='object')\n",
      "\n",
      "\n",
      "Stations DataFrame: \n",
      " Index(['id', 'unique_name', 'latitude', 'longitude'], dtype='object')\n",
      "\n",
      "\n",
      "Ticket DataFrame: \n",
      " Index(['id', 'company', 'o_station', 'd_station', 'departure_ts', 'arrival_ts',\n",
      "       'price_in_cents', 'search_ts', 'middle_stations', 'other_companies',\n",
      "       'o_city', 'd_city'],\n",
      "      dtype='object')\n",
      "\n",
      "\n"
     ]
    }
   ],
   "source": [
    "print(f\"Cities DataFrame: \\n {cities.columns}\\n\\n\")\n",
    "print(f\"Providers DataFrame: \\n {providers.columns}\\n\\n\")\n",
    "print(f\"Stations DataFrame: \\n {stations.columns}\\n\\n\")\n",
    "print(f\"Ticket DataFrame: \\n {ticket.columns}\\n\\n\")"
   ]
  },
  {
   "cell_type": "markdown",
   "metadata": {},
   "source": [
    "First we can try to gather very basic insight like a min/max/average price or duration for all the differents tickets on our df."
   ]
  },
  {
   "cell_type": "code",
   "execution_count": 4,
   "metadata": {},
   "outputs": [
    {
     "name": "stdout",
     "output_type": "stream",
     "text": [
      "Minimum price: 3.0 €\n",
      "Maximum price: 385.5 €\n",
      "Mean price: 43.83 €\n",
      "Minimum duration: 0 days 00:20:00\n",
      "Maximum duration: 20 days 12:51:00\n",
      "Mean duration: 0 days 07:04:37.247600043\n"
     ]
    }
   ],
   "source": [
    "min_price = ticket['price_in_cents'].min()\n",
    "max_price = ticket['price_in_cents'].max()\n",
    "mean_price = ticket['price_in_cents'].mean()\n",
    "\n",
    "#We convert departure_ts and arrival_ts to datetimes objects\n",
    "ticket['departure_ts'] = pd.to_datetime(ticket['departure_ts'], format='%Y-%m-%d %H:%M:%S.%f')\n",
    "ticket['arrival_ts'] = pd.to_datetime(ticket['arrival_ts'], format='%Y-%m-%d %H:%M:%S.%f')\n",
    "\n",
    "#We add duration column to which we'll apply mean/max/min.\n",
    "ticket['duration'] = ticket['arrival_ts'] - ticket['departure_ts']\n",
    "min_duration = ticket['duration'].min()\n",
    "max_duration = ticket['duration'].max()\n",
    "mean_duration = ticket['duration'].mean()\n",
    "\n",
    "print(f\"Minimum price: {min_price/100} €\")\n",
    "print(f\"Maximum price: {max_price/100} €\")\n",
    "print(f\"Mean price: {round(mean_price/100, 2)} €\")\n",
    "print(f\"Minimum duration: {min_duration}\")\n",
    "print(f\"Maximum duration: {max_duration}\")\n",
    "print(f\"Mean duration: {mean_duration}\")"
   ]
  },
  {
   "cell_type": "markdown",
   "metadata": {},
   "source": [
    "Even tho theses results show global tendancies, we do know that train is more expensive than bus for example. We also know that the longer a traject is, the higher the price will be.\n",
    "Let's thus try to gather more precise insights that takes into account the length of the ride and the conveyance.\n",
    "\n",
    "We will create new dataframes that only contains data according to the length of the trip or the coveyance and apply mean to these dataframes.\n",
    "First we will only take into account the conveyance. We will take the length into account later. "
   ]
  },
  {
   "cell_type": "code",
   "execution_count": 5,
   "metadata": {},
   "outputs": [
    {
     "name": "stdout",
     "output_type": "stream",
     "text": [
      "<class 'pandas.core.frame.DataFrame'>\n",
      "RangeIndex: 74168 entries, 0 to 74167\n",
      "Data columns (total 13 columns):\n",
      " #   Column           Non-Null Count  Dtype              \n",
      "---  ------           --------------  -----              \n",
      " 0   id               74168 non-null  int64              \n",
      " 1   company          74168 non-null  int64              \n",
      " 2   o_station        32727 non-null  float64            \n",
      " 3   d_station        32727 non-null  float64            \n",
      " 4   departure_ts     74168 non-null  datetime64[ns, UTC]\n",
      " 5   arrival_ts       74168 non-null  datetime64[ns, UTC]\n",
      " 6   price_in_cents   74168 non-null  int64              \n",
      " 7   search_ts        74168 non-null  object             \n",
      " 8   middle_stations  32727 non-null  object             \n",
      " 9   other_companies  32727 non-null  object             \n",
      " 10  o_city           74168 non-null  int64              \n",
      " 11  d_city           74168 non-null  int64              \n",
      " 12  duration         74168 non-null  timedelta64[ns]    \n",
      "dtypes: datetime64[ns, UTC](2), float64(2), int64(5), object(3), timedelta64[ns](1)\n",
      "memory usage: 7.4+ MB\n",
      "None\n"
     ]
    }
   ],
   "source": [
    "#First we need to join providers to ticket to know the conveyance for each ticket thanks to the \"transport_type\" column of providers\n",
    "\n",
    "#We can first check if there is not too much tickets with missings companies\n",
    "print(ticket.info())\n",
    "#We can see that there is 74168 non_null company out of 74168 total. \n",
    "#We can join both dataframes and expect good results"
   ]
  },
  {
   "cell_type": "code",
   "execution_count": 106,
   "metadata": {},
   "outputs": [
    {
     "name": "stderr",
     "output_type": "stream",
     "text": [
      "/usr/local/lib/python3.8/dist-packages/seaborn/_decorators.py:36: FutureWarning: Pass the following variable as a keyword arg: x. From version 0.12, the only valid positional argument will be `data`, and passing other arguments without an explicit keyword will result in an error or misinterpretation.\n",
      "  warnings.warn(\n"
     ]
    },
    {
     "data": {
      "text/plain": [
       "<AxesSubplot:xlabel='transport_type', ylabel='count'>"
      ]
     },
     "execution_count": 106,
     "metadata": {},
     "output_type": "execute_result"
    },
    {
     "data": {
      "image/png": "[encoded data removed]",
      "text/plain": [
       "<Figure size 432x288 with 1 Axes>"
      ]
     },
     "metadata": {
      "needs_background": "light"
     },
     "output_type": "display_data"
    }
   ],
   "source": [
    "#Let's check the conveyances of our providers file\n",
    "sns.countplot(providers['transport_type'])\n",
    "#We can see that the data are very unbalanced and that we have a huge majority of bus providers."
   ]
  },
  {
   "cell_type": "code",
   "execution_count": 14,
   "metadata": {},
   "outputs": [
    {
     "name": "stderr",
     "output_type": "stream",
     "text": [
      "/usr/local/lib/python3.8/dist-packages/seaborn/_decorators.py:36: FutureWarning: Pass the following variable as a keyword arg: x. From version 0.12, the only valid positional argument will be `data`, and passing other arguments without an explicit keyword will result in an error or misinterpretation.\n",
      "  warnings.warn(\n"
     ]
    },
    {
     "data": {
      "text/plain": [
       "<AxesSubplot:xlabel='transport_type', ylabel='count'>"
      ]
     },
     "execution_count": 14,
     "metadata": {},
     "output_type": "execute_result"
    },
    {
     "data": {
      "image/png": "[encoded data removed]",
      "text/plain": [
       "<Figure size 432x288 with 1 Axes>"
      ]
     },
     "metadata": {
      "needs_background": "light"
     },
     "output_type": "display_data"
    }
   ],
   "source": [
    "ticket_providers = ticket.merge(providers, left_on='company', right_on='id', suffixes=('_tick', '_prov'))\n",
    "sns.countplot(ticket_providers['transport_type'])\n",
    "#Unfortunately we can see that we dont have any car ticket on our data_ticket.csv."
   ]
  },
  {
   "cell_type": "code",
   "execution_count": 15,
   "metadata": {},
   "outputs": [
    {
     "name": "stdout",
     "output_type": "stream",
     "text": [
      "Mean price for bus: 36.52 €\n",
      "Mean duration for bus: 0 days 15:37:59.769531816\n",
      "Mean price for train: 85.07 €\n",
      "Mean duration for train: 0 days 07:20:03.435997675\n",
      "Mean price for carpooling: 27.42 €\n",
      "Mean duration for carpooling: 0 days 04:06:38.330156125\n"
     ]
    }
   ],
   "source": [
    "#Let's only compute mean for train, bus and carpooling since we dont have any data for car\n",
    "ticket_bus = ticket_providers.loc[ticket_providers['transport_type'].isin(['bus'])]\n",
    "ticket_train = ticket_providers.loc[ticket_providers['transport_type'].isin(['train'])]\n",
    "ticket_carpooling = ticket_providers.loc[ticket_providers['transport_type'].isin(['carpooling'])]\n",
    "\n",
    "mean_duration_bus = ticket_bus['duration'].mean()\n",
    "mean_duration_train = ticket_train['duration'].mean()\n",
    "mean_duration_carpooling = ticket_carpooling['duration'].mean()\n",
    "\n",
    "mean_price_bus = ticket_bus['price_in_cents'].mean()\n",
    "mean_price_train = ticket_train['price_in_cents'].mean()\n",
    "mean_price_carpooling = ticket_carpooling['price_in_cents'].mean()\n",
    "\n",
    "print(f\"Mean price for bus: {round(mean_price_bus/100, 2)} €\")\n",
    "print(f\"Mean duration for bus: {mean_duration_bus}\")\n",
    "print(f\"Mean price for train: {round(mean_price_train/100, 2)} €\")\n",
    "print(f\"Mean duration for train: {mean_duration_train}\")\n",
    "print(f\"Mean price for carpooling: {round(mean_price_carpooling/100, 2)} €\")\n",
    "print(f\"Mean duration for carpooling: {mean_duration_carpooling}\")"
   ]
  },
  {
   "cell_type": "markdown",
   "metadata": {},
   "source": [
    "We can see that in average, carpooling is the cheapest one but the duration is also the shortest one. Since the speed of bus, car and train are not the same we need to take into account the length of the trip too if we want some more meaningful insights.\n",
    "\n",
    "Let's thus take into account the length of the trip now"
   ]
  },
  {
   "cell_type": "code",
   "execution_count": 70,
   "metadata": {},
   "outputs": [],
   "source": [
    "#First we will need to convert latitude, longitude to distance in kilometers.\n",
    "#I will create a funciton that takes a row of our data frame in argument in order to use it in a pd.apply()\n",
    "#We assume that distance is computed from stations if the conveyance is train or bus and computed from cities if the conveyance is carpooling\n",
    "def compute_dist(row, city_or_stat):\n",
    "    # approximate radius of earth in km\n",
    "    R = 6373.0\n",
    "    lat1 = radians(row[f'latitude_{city_or_stat}_d'])\n",
    "    lon1 = radians(row[f'longitude_{city_or_stat}_d'])\n",
    "    lat2 = radians(row[f'latitude_{city_or_stat}_o'])\n",
    "    lon2 = radians(row[f'longitude_{city_or_stat}_o'])\n",
    "\n",
    "    dlon = lon2 - lon1\n",
    "    dlat = lat2 - lat1\n",
    "\n",
    "    a = sin(dlat / 2)**2 + cos(lat1) * cos(lat2) * sin(dlon / 2)**2\n",
    "    c = 2 * atan2(sqrt(a), sqrt(1 - a))\n",
    "\n",
    "    distance = R * c\n",
    "    return round(distance, 2)"
   ]
  },
  {
   "cell_type": "code",
   "execution_count": 74,
   "metadata": {},
   "outputs": [],
   "source": [
    "#First we will need to add a distance column to our df thanks to stations.csv and cities.csv\n",
    "#Station is a boolean set to True if we compute distance from stations, False if we compute it from cities\n",
    "\n",
    "def add_distance(df, station):\n",
    "    if station:\n",
    "        df_stat = df.merge(stations, left_on='o_station', right_on='id', suffixes=('_tick', '_stat_o'))\n",
    "        df_stat = df_stat.merge(stations, left_on='d_station', right_on='id', suffixes=('_stat_o', '_stat_d'))\n",
    "        df_stat['distance'] = df_stat.apply(lambda row: compute_dist(row, 'stat'), axis=1)\n",
    "        return df_stat\n",
    "    else:\n",
    "        df_city = df.merge(cities, left_on='o_city', right_on='id', suffixes=('_tick', '_city_o'))\n",
    "        df_city = df_city.merge(cities, left_on='d_city', right_on='id', suffixes=('_city_o', '_city_d'))\n",
    "        df_city['distance'] = df_city.apply(lambda row: compute_dist(row, 'city'), axis=1)\n",
    "        return df_city\n",
    "    \n",
    "ticket_train_dist = add_distance(ticket_train, True)\n",
    "ticket_bus_dist = add_distance(ticket_bus, True)\n",
    "ticket_carpooling_dist = add_distance(ticket_carpooling, False)"
   ]
  },
  {
   "cell_type": "code",
   "execution_count": 105,
   "metadata": {},
   "outputs": [
    {
     "name": "stdout",
     "output_type": "stream",
     "text": [
      "Computing mean for bus:\n",
      "Average price for length (0, 200): 21.1 €\n",
      "Average duration for length (0, 200): 0 days 10:47:27.083888149\n",
      "Average price for length (201, 800): 35.39 €\n",
      "Average duration for length (201, 800): 0 days 15:07:27.449610319\n",
      "Average price for length (800, 2000): 69.56 €\n",
      "Average duration for length (800, 2000): 1 days 03:32:47.173913043\n",
      "Average price for length (2000, None): nan €\n",
      "Average duration for length (2000, None): NaT\n",
      "\n",
      "\n",
      "Computing mean for train:\n",
      "Average price for length (0, 200): 35.97 €\n",
      "Average duration for length (0, 200): 0 days 04:21:40.097014925\n",
      "Average price for length (201, 800): 91.93 €\n",
      "Average duration for length (201, 800): 0 days 07:44:21.939820340\n",
      "Average price for length (800, 2000): 156.8 €\n",
      "Average duration for length (800, 2000): 0 days 12:13:02.460567823\n",
      "Average price for length (2000, None): nan €\n",
      "Average duration for length (2000, None): NaT\n",
      "\n",
      "\n",
      "Computing mean for carpooling:\n",
      "Average price for length (0, 200): 11.77 €\n",
      "Average duration for length (0, 200): 0 days 01:57:07.342427561\n",
      "Average price for length (201, 800): 32.31 €\n",
      "Average duration for length (201, 800): 0 days 04:46:50.514079049\n",
      "Average price for length (800, 2000): 86.27 €\n",
      "Average duration for length (800, 2000): 0 days 13:06:00.839160839\n",
      "Average price for length (2000, None): nan €\n",
      "Average duration for length (2000, None): NaT\n",
      "\n",
      "\n"
     ]
    }
   ],
   "source": [
    "def mean_with_length(df, list_lengths, conveyance):\n",
    "    print(f'Computing mean for {conveyance}:')\n",
    "    for length in list_lengths:\n",
    "        if length[1]:\n",
    "            df_l = df.loc[(df['distance'] >= length[0])&(df['distance'] <= length[1])]\n",
    "            print(f\"Average price for length {length}: {round(df_l['price_in_cents'].mean()/100, 2)} €\")\n",
    "            print(f\"Average duration for length {length}: {df_l['duration'].mean()}\")\n",
    "        else:\n",
    "            df_l = df.loc[df['distance'] >= length[0]]\n",
    "            print(f\"Average price for length {length}: {round(df_l['price_in_cents'].mean()/100, 2)} €\")\n",
    "            print(f\"Average duration for length {length}: {df_l['duration'].mean()}\")\n",
    "    print('\\n')\n",
    "\n",
    "list_lengths = [(0,200), (201, 800), (800, 2000), (2000,None)]\n",
    "mean_with_length(ticket_bus_dist, list_lengths, 'bus')\n",
    "mean_with_length(ticket_train_dist, list_lengths, 'train')\n",
    "mean_with_length(ticket_carpooling_dist, list_lengths, 'carpooling')"
   ]
  },
  {
   "cell_type": "markdown",
   "metadata": {},
   "source": [
    "We can see that in average, the cheapest and the fastest conveyance is carpooling. These results are to be expected since for long trip, train trips tends to be longer because of the waiting between two trains.\n",
    "\n",
    "We can also see that bus tends to be cheaper but way longer than train.\n",
    "\n",
    "It does explain why we do have a majority of carpooling ticket in our database then almost as much train ticket than bus ticket."
   ]
  }
 ],
 "metadata": {
  "kernelspec": {
   "display_name": "Python 3",
   "language": "python",
   "name": "python3"
  },
  "language_info": {
   "codemirror_mode": {
    "name": "ipython",
    "version": 3
   },
   "file_extension": ".py",
   "mimetype": "text/x-python",
   "name": "python",
   "nbconvert_exporter": "python",
   "pygments_lexer": "ipython3",
   "version": "3.8.5"
  }
 },
 "nbformat": 4,
 "nbformat_minor": 4
}
